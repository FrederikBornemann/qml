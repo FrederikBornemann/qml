{
 "cells": [
  {
   "cell_type": "code",
   "execution_count": 92,
   "metadata": {},
   "outputs": [],
   "source": [
    "import numpy as np\n",
    "import pandas as pd\n",
    "import matplotlib.pyplot as plt\n",
    "from pyqubo import Array\n",
    "import neal\n",
    "from dwave.system import LeapHybridSampler\n",
    "from dwave.system import DWaveSampler"
   ]
  },
  {
   "cell_type": "code",
   "execution_count": 93,
   "metadata": {},
   "outputs": [],
   "source": [
    "data = pd.read_csv('datasets/linear_regression_data.csv')\n",
    "data = data.rename(columns={\"deneyim\": \"x\", \"maas\": \"y\"})"
   ]
  },
  {
   "cell_type": "code",
   "execution_count": 94,
   "metadata": {},
   "outputs": [],
   "source": [
    "X = data['x']\n",
    "Y = np.array(data['y']*0.1)\n",
    "\n",
    "X = np.c_[np.ones(X.shape[0]), X] "
   ]
  },
  {
   "cell_type": "code",
   "execution_count": 95,
   "metadata": {},
   "outputs": [
    {
     "name": "stdout",
     "output_type": "stream",
     "text": [
      "[[ 1.   0.5]\n",
      " [ 1.   0. ]\n",
      " [ 1.   1. ]\n",
      " [ 1.   5. ]\n",
      " [ 1.   8. ]\n",
      " [ 1.   4. ]\n",
      " [ 1.  15. ]\n",
      " [ 1.   7. ]\n",
      " [ 1.   3. ]\n",
      " [ 1.   2. ]\n",
      " [ 1.  12. ]\n",
      " [ 1.  10. ]\n",
      " [ 1.  14. ]\n",
      " [ 1.   6. ]]\n"
     ]
    }
   ],
   "source": [
    "print(X)"
   ]
  },
  {
   "cell_type": "code",
   "execution_count": 96,
   "metadata": {},
   "outputs": [],
   "source": [
    "k = 30\n",
    "\n",
    "# Percision vector\n",
    "P = np.array([])\n",
    "for i in range(k//2):\n",
    "    p = np.array([2**(i-1),-2**(i-1)])\n",
    "    P = np.append(P,p)\n",
    "P = np.sort(P)\n",
    "\n",
    "# Percision matrix\n",
    "M = np.kron(np.identity(2), P)\n",
    "\n",
    "# weight vector\n",
    "w = Array.create('w', shape=2*k, vartype='BINARY')\n",
    "\n",
    "A = w.T@M.T@X.T@X@M@w\n",
    "b = -2*w.T@M.T@X.T@Y\n",
    "\n",
    "# Hamiltonian\n",
    "H = A + b"
   ]
  },
  {
   "cell_type": "code",
   "execution_count": 97,
   "metadata": {},
   "outputs": [],
   "source": [
    "# to compute the weight an bias\n",
    "def get_beta(w_sample, k, M):\n",
    "    \n",
    "    weight_list = []\n",
    "    for i in range(2*k):\n",
    "        weight_list.append(f'w[{i}]')\n",
    "    #print(weight_list)\n",
    "    w_array = np.array([])\n",
    "    for weight in weight_list:\n",
    "        placeholder = np.array([w_sample[weight]])\n",
    "        w_array = np.append(w_array, placeholder)\n",
    "\n",
    "    print(w_array)\n",
    "\n",
    "    beta_ = M@w_array\n",
    "    return beta_"
   ]
  },
  {
   "cell_type": "code",
   "execution_count": 98,
   "metadata": {},
   "outputs": [],
   "source": [
    "model = H.compile()\n",
    "bqm = model.to_bqm()"
   ]
  },
  {
   "cell_type": "code",
   "execution_count": 99,
   "metadata": {},
   "outputs": [
    {
     "name": "stdout",
     "output_type": "stream",
     "text": [
      "[0. 1. 1. 1. 1. 1. 1. 1. 1. 0. 0. 0. 0. 0. 0. 1. 1. 0. 1. 0. 0. 0. 0. 1.\n",
      " 0. 0. 0. 0. 0. 1. 1. 1. 1. 0. 0. 1. 1. 0. 0. 0. 0. 0. 0. 0. 1. 1. 0. 1.\n",
      " 0. 0. 1. 1. 1. 1. 1. 0. 0. 1. 1. 1.]\n",
      "[165.5 114. ]\n"
     ]
    }
   ],
   "source": [
    "sampler = neal.SimulatedAnnealingSampler()\n",
    "sampleset = sampler.sample(bqm, num_reads=100)\n",
    "decoded_samples = model.decode_sampleset(sampleset)\n",
    "best_sample = min(decoded_samples, key=lambda x: x.energy)\n",
    "\n",
    "cbeta = get_beta(best_sample.sample, k, M)\n",
    "print(cbeta)"
   ]
  },
  {
   "cell_type": "code",
   "execution_count": 100,
   "metadata": {},
   "outputs": [
    {
     "name": "stdout",
     "output_type": "stream",
     "text": [
      "[1. 0. 0. 1. 1. 0. 1. 1. 0. 0. 1. 1. 0. 1. 0. 1. 1. 0. 1. 0. 1. 1. 1. 0.\n",
      " 1. 1. 1. 0. 0. 1. 1. 1. 0. 1. 1. 1. 1. 0. 0. 1. 1. 0. 0. 0. 0. 1. 1. 0.\n",
      " 0. 1. 0. 0. 0. 0. 0. 0. 0. 1. 1. 1.]\n",
      "[168.5 113.5]\n"
     ]
    }
   ],
   "source": [
    "sampler = LeapHybridSampler()\n",
    "sampleset = sampler.sample(bqm)\n",
    "\n",
    "decoded_samples = model.decode_sampleset(sampleset)\n",
    "best_sample = min(decoded_samples, key=lambda x: x.energy)\n",
    "\n",
    "qbeta = get_beta(best_sample.sample, k, M)\n",
    "print(qbeta)"
   ]
  },
  {
   "cell_type": "code",
   "execution_count": 101,
   "metadata": {},
   "outputs": [],
   "source": [
    "#import dwave.inspector\n",
    "#dwave.inspector.show(sampleset)"
   ]
  },
  {
   "cell_type": "code",
   "execution_count": 102,
   "metadata": {},
   "outputs": [],
   "source": [
    "def get_error(beta):\n",
    "    error = 0\n",
    "    for idx,i in enumerate(X[:,1]):\n",
    "        error += abs(beta[0]+beta[1]*i - Y[idx])\n",
    "    error *= 1/Y.size\n",
    "    return error"
   ]
  },
  {
   "cell_type": "code",
   "execution_count": 103,
   "metadata": {},
   "outputs": [
    {
     "data": {
      "image/png": "[encoded data removed]",
      "text/plain": [
       "<Figure size 432x288 with 1 Axes>"
      ]
     },
     "metadata": {
      "needs_background": "light"
     },
     "output_type": "display_data"
    }
   ],
   "source": [
    "plt.plot(X[:,1], Y, 'o')\n",
    "plt.plot(X[:,1], cbeta[0]+cbeta[1]*X[:,1])\n",
    "plt.text(0,1750,'y = {:.2f}*x + {:.2f},  error = {:.2f}'.format(cbeta[1], cbeta[0], get_error(cbeta)))\n",
    "plt.title('Linear regression (Simulated Annealing)')\n",
    "plt.show()"
   ]
  },
  {
   "cell_type": "code",
   "execution_count": 104,
   "metadata": {},
   "outputs": [
    {
     "data": {
      "image/png": "[encoded data removed]",
      "text/plain": [
       "<Figure size 432x288 with 1 Axes>"
      ]
     },
     "metadata": {
      "needs_background": "light"
     },
     "output_type": "display_data"
    }
   ],
   "source": [
    "plt.plot(X[:,1], Y, 'o')\n",
    "plt.plot(X[:,1], qbeta[0]+qbeta[1]*X[:,1])\n",
    "plt.text(0,1750,'y = {:.2f}*x + {:.2f},  error = {:.2f}'.format(qbeta[1], qbeta[0], get_error(qbeta)))\n",
    "plt.title('Linear regression (Quantum Annealing)')\n",
    "plt.show()"
   ]
  }
 ],
 "metadata": {
  "kernelspec": {
   "display_name": "Python 3.9.5 ('ocean': venv)",
   "language": "python",
   "name": "python3"
  },
  "language_info": {
   "codemirror_mode": {
    "name": "ipython",
    "version": 3
   },
   "file_extension": ".py",
   "mimetype": "text/x-python",
   "name": "python",
   "nbconvert_exporter": "python",
   "pygments_lexer": "ipython3",
   "version": "3.9.5"
  },
  "orig_nbformat": 4,
  "vscode": {
   "interpreter": {
    "hash": "3960ac6394c6fb0f242d97dbd9d20645a4e5cde5e65b500024e5c087c5b2df49"
   }
  }
 },
 "nbformat": 4,
 "nbformat_minor": 2
}
