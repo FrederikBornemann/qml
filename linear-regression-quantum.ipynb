{
 "cells": [
  {
   "cell_type": "code",
   "execution_count": 3,
   "metadata": {},
   "outputs": [],
   "source": [
    "import numpy as np\n",
    "import pandas as pd\n",
    "import matplotlib.pyplot as plt\n",
    "from pyqubo import Array\n",
    "import neal\n",
    "from dwave.system import LeapHybridSampler\n",
    "from dwave.system import DWaveSampler"
   ]
  },
  {
   "cell_type": "code",
   "execution_count": 4,
   "metadata": {},
   "outputs": [],
   "source": [
    "data = pd.read_csv('datasets/linear_regression_data.csv')\n",
    "data = data.rename(columns={\"deneyim\": \"x\", \"maas\": \"y\"})"
   ]
  },
  {
   "cell_type": "code",
   "execution_count": 5,
   "metadata": {},
   "outputs": [],
   "source": [
    "X = data['x']\n",
    "Y = np.array(data['y']*0.1)\n",
    "\n",
    "X = np.c_[np.ones(X.shape[0]), X] "
   ]
  },
  {
   "cell_type": "code",
   "execution_count": 6,
   "metadata": {},
   "outputs": [
    {
     "name": "stdout",
     "output_type": "stream",
     "text": [
      "[[ 1.   0.5]\n",
      " [ 1.   0. ]\n",
      " [ 1.   1. ]\n",
      " [ 1.   5. ]\n",
      " [ 1.   8. ]\n",
      " [ 1.   4. ]\n",
      " [ 1.  15. ]\n",
      " [ 1.   7. ]\n",
      " [ 1.   3. ]\n",
      " [ 1.   2. ]\n",
      " [ 1.  12. ]\n",
      " [ 1.  10. ]\n",
      " [ 1.  14. ]\n",
      " [ 1.   6. ]]\n"
     ]
    }
   ],
   "source": [
    "print(X)"
   ]
  },
  {
   "cell_type": "code",
   "execution_count": 7,
   "metadata": {},
   "outputs": [],
   "source": [
    "k = 30\n",
    "\n",
    "# Percision vector\n",
    "P = np.array([])\n",
    "for i in range(k//2):\n",
    "    p = np.array([2**(i-1),-2**(i-1)])\n",
    "    P = np.append(P,p)\n",
    "P = np.sort(P)\n",
    "\n",
    "# Percision matrix\n",
    "M = np.kron(np.identity(2), P)\n",
    "\n",
    "# weight vector\n",
    "w = Array.create('w', shape=2*k, vartype='BINARY')\n",
    "\n",
    "A = w.T@M.T@X.T@X@M@w\n",
    "b = -2*w.T@M.T@X.T@Y\n",
    "\n",
    "# Hamiltonian\n",
    "H = A + b"
   ]
  },
  {
   "cell_type": "code",
   "execution_count": 8,
   "metadata": {},
   "outputs": [],
   "source": [
    "# to compute the weight an bias\n",
    "def get_beta(w_sample, k, M):\n",
    "    \n",
    "    weight_list = []\n",
    "    for i in range(2*k):\n",
    "        weight_list.append(f'w[{i}]')\n",
    "    #print(weight_list)\n",
    "    w_array = np.array([])\n",
    "    for weight in weight_list:\n",
    "        placeholder = np.array([w_sample[weight]])\n",
    "        w_array = np.append(w_array, placeholder)\n",
    "\n",
    "    print(w_array)\n",
    "\n",
    "    beta_ = M@w_array\n",
    "    return beta_"
   ]
  },
  {
   "cell_type": "code",
   "execution_count": 9,
   "metadata": {},
   "outputs": [],
   "source": [
    "model = H.compile()\n",
    "bqm = model.to_bqm()"
   ]
  },
  {
   "cell_type": "code",
   "execution_count": 10,
   "metadata": {},
   "outputs": [
    {
     "name": "stdout",
     "output_type": "stream",
     "text": [
      "[0. 0. 1. 0. 0. 0. 1. 1. 1. 1. 0. 0. 0. 0. 0. 1. 1. 0. 1. 0. 1. 0. 0. 1.\n",
      " 1. 0. 0. 1. 0. 0. 1. 0. 0. 1. 0. 1. 1. 1. 0. 1. 0. 0. 0. 0. 1. 1. 0. 1.\n",
      " 0. 0. 0. 0. 1. 0. 0. 1. 1. 0. 0. 1.]\n",
      "[165.5 114. ]\n"
     ]
    }
   ],
   "source": [
    "sampler = neal.SimulatedAnnealingSampler()\n",
    "sampleset = sampler.sample(bqm, num_reads=100)\n",
    "decoded_samples = model.decode_sampleset(sampleset)\n",
    "best_sample = min(decoded_samples, key=lambda x: x.energy)\n",
    "\n",
    "cbeta = get_beta(best_sample.sample, k, M)\n",
    "print(cbeta)"
   ]
  },
  {
   "cell_type": "code",
   "execution_count": 100,
   "metadata": {},
   "outputs": [
    {
     "name": "stdout",
     "output_type": "stream",
     "text": [
      "[1. 0. 0. 1. 1. 0. 1. 1. 0. 0. 1. 1. 0. 1. 0. 1. 1. 0. 1. 0. 1. 1. 1. 0.\n",
      " 1. 1. 1. 0. 0. 1. 1. 1. 0. 1. 1. 1. 1. 0. 0. 1. 1. 0. 0. 0. 0. 1. 1. 0.\n",
      " 0. 1. 0. 0. 0. 0. 0. 0. 0. 1. 1. 1.]\n",
      "[168.5 113.5]\n"
     ]
    }
   ],
   "source": [
    "sampler = LeapHybridSampler()\n",
    "sampleset = sampler.sample(bqm)\n",
    "\n",
    "decoded_samples = model.decode_sampleset(sampleset)\n",
    "best_sample = min(decoded_samples, key=lambda x: x.energy)\n",
    "\n",
    "qbeta = get_beta(best_sample.sample, k, M)\n",
    "print(qbeta)"
   ]
  },
  {
   "cell_type": "code",
   "execution_count": 101,
   "metadata": {},
   "outputs": [],
   "source": [
    "#import dwave.inspector\n",
    "#dwave.inspector.show(sampleset)"
   ]
  },
  {
   "cell_type": "code",
   "execution_count": 11,
   "metadata": {},
   "outputs": [],
   "source": [
    "def get_error(beta):\n",
    "    error = 0\n",
    "    for idx,i in enumerate(X[:,1]):\n",
    "        error += abs(beta[0]+beta[1]*i - Y[idx])\n",
    "    error *= 1/Y.size\n",
    "    return error"
   ]
  },
  {
   "cell_type": "code",
   "execution_count": 12,
   "metadata": {},
   "outputs": [
    {
     "data": {
      "image/png": "[encoded data removed]",
      "text/plain": [
       "<Figure size 432x288 with 1 Axes>"
      ]
     },
     "metadata": {
      "needs_background": "light"
     },
     "output_type": "display_data"
    }
   ],
   "source": [
    "plt.plot(X[:,1], Y, 'o')\n",
    "plt.plot(X[:,1], cbeta[0]+cbeta[1]*X[:,1])\n",
    "plt.text(0,1750,'y = {:.2f}*x + {:.2f},  error = {:.2f}'.format(cbeta[1], cbeta[0], get_error(cbeta)))\n",
    "plt.title('Linear regression (Simulated Annealing)')\n",
    "plt.show()"
   ]
  },
  {
   "cell_type": "code",
   "execution_count": 13,
   "metadata": {},
   "outputs": [
    {
     "ename": "NameError",
     "evalue": "name 'qbeta' is not defined",
     "output_type": "error",
     "traceback": [
      "\u001b[0;31m---------------------------------------------------------------------------\u001b[0m",
      "\u001b[0;31mNameError\u001b[0m                                 Traceback (most recent call last)",
      "\u001b[1;32m/Users/frederikbornemann/Data/GitHub/qml/linear-regression-quantum.ipynb Cell 13'\u001b[0m in \u001b[0;36m<cell line: 2>\u001b[0;34m()\u001b[0m\n\u001b[1;32m      <a href='vscode-notebook-cell:/Users/frederikbornemann/Data/GitHub/qml/linear-regression-quantum.ipynb#ch0000012?line=0'>1</a>\u001b[0m plt\u001b[39m.\u001b[39mplot(X[:,\u001b[39m1\u001b[39m], Y, \u001b[39m'\u001b[39m\u001b[39mo\u001b[39m\u001b[39m'\u001b[39m)\n\u001b[0;32m----> <a href='vscode-notebook-cell:/Users/frederikbornemann/Data/GitHub/qml/linear-regression-quantum.ipynb#ch0000012?line=1'>2</a>\u001b[0m plt\u001b[39m.\u001b[39mplot(X[:,\u001b[39m1\u001b[39m], qbeta[\u001b[39m0\u001b[39m]\u001b[39m+\u001b[39mqbeta[\u001b[39m1\u001b[39m]\u001b[39m*\u001b[39mX[:,\u001b[39m1\u001b[39m])\n\u001b[1;32m      <a href='vscode-notebook-cell:/Users/frederikbornemann/Data/GitHub/qml/linear-regression-quantum.ipynb#ch0000012?line=2'>3</a>\u001b[0m plt\u001b[39m.\u001b[39mtext(\u001b[39m0\u001b[39m,\u001b[39m1750\u001b[39m,\u001b[39m'\u001b[39m\u001b[39my = \u001b[39m\u001b[39m{:.2f}\u001b[39;00m\u001b[39m*x + \u001b[39m\u001b[39m{:.2f}\u001b[39;00m\u001b[39m,  error = \u001b[39m\u001b[39m{:.2f}\u001b[39;00m\u001b[39m'\u001b[39m\u001b[39m.\u001b[39mformat(qbeta[\u001b[39m1\u001b[39m], qbeta[\u001b[39m0\u001b[39m], get_error(qbeta)))\n\u001b[1;32m      <a href='vscode-notebook-cell:/Users/frederikbornemann/Data/GitHub/qml/linear-regression-quantum.ipynb#ch0000012?line=3'>4</a>\u001b[0m plt\u001b[39m.\u001b[39mtitle(\u001b[39m'\u001b[39m\u001b[39mLinear regression (Quantum Annealing)\u001b[39m\u001b[39m'\u001b[39m)\n",
      "\u001b[0;31mNameError\u001b[0m: name 'qbeta' is not defined"
     ]
    },
    {
     "data": {
      "image/png": "[encoded data removed]",
      "text/plain": [
       "<Figure size 432x288 with 1 Axes>"
      ]
     },
     "metadata": {
      "needs_background": "light"
     },
     "output_type": "display_data"
    }
   ],
   "source": [
    "plt.plot(X[:,1], Y, 'o')\n",
    "plt.plot(X[:,1], qbeta[0]+qbeta[1]*X[:,1])\n",
    "plt.text(0,1750,'y = {:.2f}*x + {:.2f},  error = {:.2f}'.format(qbeta[1], qbeta[0], get_error(qbeta)))\n",
    "plt.title('Linear regression (Quantum Annealing)')\n",
    "plt.show()"
   ]
  }
 ],
 "metadata": {
  "interpreter": {
   "hash": "c1cd3f669d567d8ac89927fa21f5240b88303de8b32773915429b378106113a6"
  },
  "kernelspec": {
   "display_name": "Python 3.9.9 ('ocean': venv)",
   "language": "python",
   "name": "python3"
  },
  "language_info": {
   "codemirror_mode": {
    "name": "ipython",
    "version": 3
   },
   "file_extension": ".py",
   "mimetype": "text/x-python",
   "name": "python",
   "nbconvert_exporter": "python",
   "pygments_lexer": "ipython3",
   "version": "3.9.9"
  },
  "orig_nbformat": 4,
  "vscode": {
   "interpreter": {
    "hash": "3960ac6394c6fb0f242d97dbd9d20645a4e5cde5e65b500024e5c087c5b2df49"
   }
  }
 },
 "nbformat": 4,
 "nbformat_minor": 2
}
